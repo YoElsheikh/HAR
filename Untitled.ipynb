{
 "cells": [
  {
   "cell_type": "code",
   "execution_count": 1,
   "id": "43ede875",
   "metadata": {},
   "outputs": [
    {
     "ename": "SyntaxError",
     "evalue": "invalid syntax (<ipython-input-1-27653e078723>, line 2)",
     "output_type": "error",
     "traceback": [
      "\u001b[1;36m  File \u001b[1;32m\"<ipython-input-1-27653e078723>\"\u001b[1;36m, line \u001b[1;32m2\u001b[0m\n\u001b[1;33m    add a shortcut to this following folder into your own google drive, so you don't need your local harddrive stroage:\u001b[0m\n\u001b[1;37m        ^\u001b[0m\n\u001b[1;31mSyntaxError\u001b[0m\u001b[1;31m:\u001b[0m invalid syntax\n"
     ]
    }
   ],
   "source": [
    "# Setting things up\n",
    "add a shortcut to this following folder into your own google drive, so you don't need your local harddrive stroage:\n",
    "\n",
    "https://drive.google.com/drive/folders/1hMByHFDsgCx-iCED3Z1WccOh690c84ew?usp=sharing\n",
    "\n",
    "The first few lines of this code will mount your drive and read the data via the shortcut. You may need to authorize Colab to read your Drive, just follow the code's output instructions.\n",
    "\n",
    "# PAMAP2 Dataset structure\n",
    "\n",
    "* 1 -> timestamp (s)\n",
    "* 2 -> activityID (see II.2. for the mapping to the activities)\n",
    "* 3 -> heart rate (bpm)\n",
    "* 4 - 20 -> IMU hand\n",
    "* 21 - 37 -> IMU chest\n",
    "* 38 - 54 -> IMU ankle\n",
    "\n",
    "## IMU Data structure\n",
    "The IMU sensory data was recorded with a frequency of 100Hz and contains the following columns:\n",
    "* 1 -> temperature (°C)\n",
    "* 2 - 4 -> 3D-acceleration data (ms -2 ),  scale: ±16g, resolution: 13-bit\n",
    "* 5 - 7 -> 3D-acceleration data (ms -2 ),  scale: ±6g, resolution: 13-bit *\n",
    "* 8 - 10 -> 3D-gyroscope data (rad/s)\n",
    "* 11 - 13 -> 3D-magnetometer data (μT)\n",
    "* 14 - 17 -> orientation (invalid in this data collection)\n",
    "\n",
    "## Activity definitions\n",
    "The corresponding IDs for the activities are:\n",
    "* 0 -> other (transient activities)\n",
    "* 1 -> lying\n",
    "* 2 -> sitting\n",
    "* 3 -> standing\n",
    "* 4 -> walking\n",
    "* 5 -> running\n",
    "* 6 -> cycling\n",
    "* 7 -> Nordic walking\n",
    "* 9 -> watching TV\n",
    "* 10 -> computer work\n",
    "* 11 -> car driving\n",
    "* 12 -> ascending stairs\n",
    "* 13 -> descending stairs\n",
    "* 16 -> vacuum cleaning\n",
    "* 17 -> ironing\n",
    "* 18 -> folding laundry\n",
    "* 19 -> house cleaning\n",
    "* 20 -> playing soccer\n",
    "* 24 -> rope jumping\n",
    "\n",
    "The dataset is orignially published by a colleague from DFKI and is now listed here:\n",
    "https://archive.ics.uci.edu/ml/datasets/PAMAP2+Physical+Activity+Monitoring\n",
    "But you don't need to download it from the UCI link because the google drive folder linked at the beginning is the same."
   ]
  },
  {
   "cell_type": "code",
   "execution_count": null,
   "id": "7ad1684d",
   "metadata": {},
   "outputs": [],
   "source": []
  }
 ],
 "metadata": {
  "kernelspec": {
   "display_name": "Python 3",
   "language": "python",
   "name": "python3"
  },
  "language_info": {
   "codemirror_mode": {
    "name": "ipython",
    "version": 3
   },
   "file_extension": ".py",
   "mimetype": "text/x-python",
   "name": "python",
   "nbconvert_exporter": "python",
   "pygments_lexer": "ipython3",
   "version": "3.8.8"
  }
 },
 "nbformat": 4,
 "nbformat_minor": 5
}
